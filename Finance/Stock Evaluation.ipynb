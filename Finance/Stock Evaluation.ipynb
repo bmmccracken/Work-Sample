{
 "cells": [
  {
   "cell_type": "code",
   "execution_count": 1,
   "metadata": {},
   "outputs": [],
   "source": [
    "def stock_value(stock):\n",
    "    # Import Libraries\n",
    "    import requests\n",
    "    import bs4\n",
    "    from bs4 import BeautifulSoup as soup\n",
    "    import re\n",
    "    import math\n",
    "\n",
    "    # URL codes\n",
    "    stock_general = 'https://finance.yahoo.com/quote/'\n",
    "    stock_bs_1 = 'https://finance.yahoo.com/quote/'\n",
    "    stock_bs_2 = '/balance-sheet?p='\n",
    "    stock_ks_1 = 'https://finance.yahoo.com/quote/'\n",
    "    stock_ks_2 = '/key-statistics/'\n",
    "\n",
    "    # HTML\n",
    "    url_stock = stock_general + stock + '/'\n",
    "    url_stock_bs = stock_bs_1 + stock + stock_bs_2 + stock\n",
    "    url_stock_ks = stock_ks_1 + stock + stock_ks_2\n",
    "\n",
    "    # Create soup from the general stock info\n",
    "    html_gen = requests.get(url_stock)\n",
    "    soup_gen = bs4.BeautifulSoup(html_gen.content, 'html.parser')\n",
    "\n",
    "    # Create soup from the balance sheet\n",
    "    html_bs = requests.get(url_stock_bs)\n",
    "    soup_bs = bs4.BeautifulSoup(html_bs.content, 'html.parser')\n",
    "\n",
    "    # Creat soup from the key stats\n",
    "    htm_ks = requests.get(url_stock_ks)\n",
    "    soup_ks = bs4.BeautifulSoup(htm_ks.content, 'html.parser')\n",
    "\n",
    "    # Reduced soup as needed\n",
    "    new_soup_bs = soup_bs.find('div', attrs = {'class':'D(tbrg)'})\n",
    "    new_soup_header = soup_gen.find('div',attrs = {'id':'quote-header-info'})\n",
    "    new_soup_body = soup_gen.find('div',attrs = {'id':'quote-summary'})\n",
    "    new_soup_ks = soup_ks.find('div', attrs = {'class':'Fl(start) W(50%) smartphone_W(100%)'})\n",
    "   \n",
    "    # calc from balance sheet\n",
    "    Asset = str(re.findall('\"74\">.{1,10},000</', str(new_soup_bs)))[7:-4]\n",
    "    Liability = str(re.findall('\"92\">.{1,10},000</', str(new_soup_bs)))[7:-4]\n",
    "\n",
    "    # Book Value calc\n",
    "    BVPS_str = str(re.findall('Book Value Per Share.{1,300}', str(new_soup_ks)))\n",
    "    BVPS = str(re.findall('\\d{1,4}\\.\\d{1,4}', str(BVPS_str)))[2:-2]\n",
    "    \n",
    "    # ROE calc\n",
    "    ROE_str = str(re.findall('Return on Equity.{1,300}\\%', str(new_soup_ks)))\n",
    "    ROE = str(re.findall('\\d{1,4}\\.\\d{1,2}%', str(ROE_str)))[2:-2]    \n",
    "    \n",
    "    # calc from header\n",
    "    Price = str(re.findall('\"50\">\\d?\\,?\\d{1,3}\\.\\d{1,4}', str(new_soup_header)))[7:-2]\n",
    "    Price = Price.replace(',', '')\n",
    "\n",
    "    # calc from body\n",
    "    EPS = str(re.findall('\"154\">\\-?\\d{1,4}\\.\\d{1,4}', str(new_soup_body)))[8:-2]\n",
    "    Beta = str(re.findall('\"144\">\\d{1,4}\\.\\d{1,4}', str(new_soup_body)))[8:-2]\n",
    "    Market_cap = str(re.findall('\"139\">\\d{1,4}\\.\\d{1,4}\\w', str(new_soup_body)))[8:-2]\n",
    "        \n",
    "    IV = round(math.sqrt(15*1.5*float(EPS)*float(BVPS)),2)\n",
    "    print('Intensic Value: ' + str(IV))\n",
    "    print('Stock Price: ' + str(Price))\n",
    "    print('Diff: ' + str(round(float(IV)-float(Price),2)))\n",
    "    print('-----')\n",
    "    print('P/E: ' + str(round(float(Price)/float(EPS),2)))\n",
    "    print('ROE: ' + str(ROE))\n",
    "    print('EPS: ' + str(EPS))\n",
    "    print('Beta: ' + str(Beta))\n",
    "    print('-----')"
   ]
  },
  {
   "cell_type": "code",
   "execution_count": 2,
   "metadata": {},
   "outputs": [
    {
     "name": "stdout",
     "output_type": "stream",
     "text": [
      "Intensic Value: 112.5\n",
      "Stock Price: 377.97\n",
      "Diff: -265.47\n",
      "-----\n",
      "P/E: 15.25\n",
      "ROE: 142.73%\n",
      "EPS: 24.78\n",
      "Beta: 0.98\n",
      "-----\n"
     ]
    }
   ],
   "source": [
    "stock_value(stock='LMT')"
   ]
  },
  {
   "cell_type": "code",
   "execution_count": null,
   "metadata": {},
   "outputs": [],
   "source": []
  }
 ],
 "metadata": {
  "kernelspec": {
   "display_name": "Python 3",
   "language": "python",
   "name": "python3"
  },
  "language_info": {
   "codemirror_mode": {
    "name": "ipython",
    "version": 3
   },
   "file_extension": ".py",
   "mimetype": "text/x-python",
   "name": "python",
   "nbconvert_exporter": "python",
   "pygments_lexer": "ipython3",
   "version": "3.8.3"
  }
 },
 "nbformat": 4,
 "nbformat_minor": 4
}
