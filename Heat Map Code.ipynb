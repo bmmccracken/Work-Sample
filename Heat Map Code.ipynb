{
 "cells": [
  {
   "attachments": {
    "f3abf129-ee82-44d2-abd6-cce83bfeab4e.png": {
     "image/png": "[encoded data removed]"
    }
   },
   "cell_type": "markdown",
   "metadata": {},
   "source": [
    "Coach,\n",
    "<br>\n",
    "<br>\n",
    "<br>\n",
    "In order to use this code, you will first need to click on the section of code below. Once you have clicked it please click the \"Ctrl + Enter\" keys at the same time.\n",
    "<br>\n",
    "You will then be prompted to enter what you would like to look at. If there is an error in what you type, the code will restart automaticly.\n",
    "<br>\n",
    "However, if it does not, simply hit the restart button \" ![image.png](attachment:f3abf129-ee82-44d2-abd6-cce83bfeab4e.png) \" to relaunch the code. In the top left corner.\n",
    "<br>\n",
    "<br>\n",
    "Once you are finished with this code simply exit out of the code, you will have a PDF with the name you selected in the \"Heatmap\" Folder of the \"Charts\" Folder.\n",
    "<br>\n",
    "If you have any question or issues, please call me at (256) 479-7457.\n",
    "<br>\n",
    "<br>\n",
    "<br>\n",
    "Very Respectfully,\n",
    "<br>\n",
    "Brett McCracken"
   ]
  },
  {
   "cell_type": "code",
   "execution_count": 14,
   "metadata": {},
   "outputs": [
    {
     "name": "stdin",
     "output_type": "stream",
     "text": [
      "What would you like to call the heatmap once it is printed: f\n",
      "What do you want to look at [Count, Whiff, Exit Velo]: exit velo\n",
      "What type of Pitch do you want to look at [All, ChangeUp, Curveball, Fastball, Sinker, Slider]: all\n"
     ]
    },
    {
     "name": "stdout",
     "output_type": "stream",
     "text": [
      "\n",
      "\n"
     ]
    },
    {
     "data": {
      "image/png": "[encoded data removed]",
      "text/plain": [
       "<Figure size 432x288 with 2 Axes>"
      ]
     },
     "metadata": {
      "needs_background": "light"
     },
     "output_type": "display_data"
    },
    {
     "name": "stdout",
     "output_type": "stream",
     "text": [
      "He threw 189 total pitches, with an average exit velo of 79.37.\n"
     ]
    }
   ],
   "source": [
    "# ---------- Import Moduals ----------\n",
    "import os\n",
    "import csv\n",
    "import datetime\n",
    "import shutil\n",
    "import pandas as pd\n",
    "import numpy as np\n",
    "from datetime import date\n",
    "import matplotlib.pyplot as plt\n",
    "import smtplib\n",
    "\n",
    "# ---------- Import CSV ----------\n",
    "file = 'Raw.csv'\n",
    "df = pd.read_csv(file)\n",
    "\n",
    "# ---------- Clean CSV ----------\n",
    "df_heatmap = df.replace(np.nan, 0)\n",
    "\n",
    "# ---------- Interface  ----------\n",
    "# inputs\n",
    "Name = input('What would you like to call the heatmap once it is printed:')\n",
    "Question = input('What do you want to look at [Count, Whiff, Exit Velo]:')\n",
    "Pitch = input('What type of Pitch do you want to look at [All, ChangeUp, Curveball, Fastball, Sinker, Slider]:')\n",
    "print('\\n')\n",
    "\n",
    "# logic\n",
    "count = 0\n",
    "while count < 1000:\n",
    "    #if count\n",
    "    if Question.lower() == 'count':\n",
    "        if Pitch.lower() == \"all\":\n",
    "            num_of_tot_pitches = len(df_heatmap)\n",
    "            print_statment = 'He threw ' + str(num_of_tot_pitches) + ' total pitches.'\n",
    "            count += 1001\n",
    "        else:\n",
    "            num_of_tot_pitches = len(df_heatmap)\n",
    "            df_heatmap = df_heatmap[df_heatmap['TaggedPitchType'].str.contains(Pitch.capitalize())]\n",
    "            num_of_pitches = len(df_heatmap)\n",
    "            print_statment = 'He threw ' + str(num_of_tot_pitches) + ' of pitches, ' + str(num_of_pitches) + ' were ' + Pitch + ' (' + str(\"{:.2%}\".format(num_of_pitches/num_of_tot_pitches)) + ').'\n",
    "            count += 1001\n",
    "       \n",
    "    # if whiff\n",
    "    elif Question.lower() == 'whiff':\n",
    "        if Pitch.lower() == \"all\":\n",
    "            num_of_tot_pitches = len(df_heatmap)\n",
    "            df_heatmap = df_heatmap[df_heatmap['PitchCall'].str.contains('StrikeSwinging')]\n",
    "            num_of_whiff = len(df_heatmap)\n",
    "            print_statment = 'He threw ' + str(num_of_tot_pitches)  + ' total pitches, ' + str(num_of_whiff) + ' were whiffed on' + ' (' + str(\"{:.2%}\".format(num_of_whiff/num_of_tot_pitches)) + ').'\n",
    "            count += 1001\n",
    "        else:\n",
    "            df_heatmap = df_heatmap[df_heatmap['TaggedPitchType'].str.contains(Pitch.capitalize())]\n",
    "            num_of_pitches = len(df_heatmap)\n",
    "            df_heatmap = df_heatmap[df_heatmap['PitchCall'].str.contains('StrikeSwinging')]\n",
    "            num_of_whiff = len(df_heatmap)\n",
    "            print_statment = 'He threw ' + str(num_of_pitches) + ' ' + Pitch + ' pitches, ' + str(num_of_whiff) + ' were whiffed on' + ' (' + str(\"{:.2%}\".format(num_of_whiff/num_of_pitches)) + ').'\n",
    "            count += 1001\n",
    "            \n",
    "    # if Exit Velo\n",
    "    elif Question.lower() == 'exit velo':\n",
    "        if Pitch.lower() == 'all':\n",
    "            num_of_tot_pitches = len(df_heatmap)\n",
    "            df_heatmap = df_heatmap[df_heatmap.ExitSpeed > 0]\n",
    "            exit_speed = \"{:.2f}\".format(df_heatmap['ExitSpeed'].mean())\n",
    "            print_statment = 'He threw ' + str(num_of_tot_pitches) + ' total pitches, with an average exit velo of ' + str(exit_speed) + '.'\n",
    "            count += 1001\n",
    "        else:\n",
    "            df_heatmap = df_heatmap[df_heatmap['TaggedPitchType'].str.contains(Pitch.capitalize())]\n",
    "            num_of_pitches = len(df_heatmap)\n",
    "            df_heatmap = df_heatmap[df_heatmap.ExitSpeed > 0]\n",
    "            num_of_hits = len(df_heatmap) \n",
    "            exit_speed = \"{:.2f}\".format(df_heatmap['ExitSpeed'].mean())\n",
    "            print_statment = 'He threw ' + str(num_of_pitches) + ' ' + Pitch + ' pitches, ' + str(num_of_hits) + ' were hit' + ' (' + str(\"{:.2%}\".format(num_of_hits/num_of_pitches)) + ') with an average exit velo of ' + exit_speed + '.'\n",
    "            count += 1001\n",
    "            \n",
    "    else:\n",
    "        print(\"-------------------------------------------\")\n",
    "        print(\"There was an error, resarting now...\")\n",
    "        Name = input('What would you like to call the heatmap once it is printed:')\n",
    "        Question = input('What do you want to look at [Count, Whiff, Exit Velo]:')\n",
    "        Pitch = input('What type of Pitch do you want to look at [All, 2-Fastball, 4-Fastball, Curveball, Slider, ChangeUp]:')\n",
    "        print('\\n')\n",
    "        count += 1       \n",
    "            \n",
    "# ---------- Plotting  ----------\n",
    "# Set x and y coordinates\n",
    "y = df_heatmap['PlateLocHeight']\n",
    "x = df_heatmap['PlateLocSide']\n",
    "\n",
    "# Plot\n",
    "heatmap, xedges, yedges = np.histogram2d(x, y, bins=20)\n",
    "extent = [xedges[0], xedges[-1], yedges[0], yedges[-1]]\n",
    "\n",
    "plt.clf()\n",
    "plt.imshow(heatmap.T, extent=extent, origin='lower', cmap = 'Greens')\n",
    "plt.colorbar()\n",
    "\n",
    "#Lables\n",
    "plt.title('Heat Map')\n",
    "plt.xlabel('<L>     Side in Feet     <R>')\n",
    "plt.ylabel('Height in Feet')\n",
    "\n",
    "# Chart dimensions\n",
    "plt.xlim([-2, 2])\n",
    "plt.ylim([0.5, 4.5]) \n",
    "\n",
    "# Creates Strikezone lines\n",
    "plt.axhline(y=1.5, linewidth=2, color='b')\n",
    "plt.axhline(y=3.6, linewidth=2, color='b')\n",
    "plt.axvline(x=(2/3), linewidth=2, color='b')\n",
    "plt.axvline(x=(-2/3), linewidth=2, color='b')\n",
    "\n",
    "# Saves as fig\n",
    "#plt.savefig('Charts\\\\Heatmaps\\\\' + Name)\n",
    "\n",
    "# Show\n",
    "plt.show()\n",
    "print(print_statment)"
   ]
  },
  {
   "cell_type": "code",
   "execution_count": null,
   "metadata": {},
   "outputs": [],
   "source": []
  }
 ],
 "metadata": {
  "kernelspec": {
   "display_name": "Python 3",
   "language": "python",
   "name": "python3"
  },
  "language_info": {
   "codemirror_mode": {
    "name": "ipython",
    "version": 3
   },
   "file_extension": ".py",
   "mimetype": "text/x-python",
   "name": "python",
   "nbconvert_exporter": "python",
   "pygments_lexer": "ipython3",
   "version": "3.8.3"
  }
 },
 "nbformat": 4,
 "nbformat_minor": 4
}
