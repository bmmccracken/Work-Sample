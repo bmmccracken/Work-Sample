{
 "cells": [
  {
   "cell_type": "code",
   "execution_count": 63,
   "metadata": {},
   "outputs": [],
   "source": [
    "# select team and player\n",
    "team = 'Alabama'\n",
    "player = 'Denton, Zane'"
   ]
  },
  {
   "cell_type": "code",
   "execution_count": 66,
   "metadata": {},
   "outputs": [
    {
     "name": "stdout",
     "output_type": "stream",
     "text": [
      "\n",
      "=====\n",
      "Avg : 0.308\n",
      "OBP : 0.405\n",
      "wOBA: 0.392\n",
      "wRAA: 6.675\n"
     ]
    }
   ],
   "source": [
    "# import packages\n",
    "import requests\n",
    "import bs4\n",
    "from bs4 import BeautifulSoup as soup\n",
    "import re\n",
    "import pandas as pd\n",
    "import numpy as np\n",
    "\n",
    "# select team and player\n",
    "#team = input('Team: ')\n",
    "#player = input('Player: ')\n",
    "\n",
    "# set url\n",
    "if team == 'Alabama': url = 'https://rolltide.com/sports/baseball/stats'\n",
    "if team == 'Georgia': url = 'https://georgiadogs.com/sports/baseball/stats/2021'\n",
    "    \n",
    "# create soup from HTML\n",
    "html = requests.get(url)\n",
    "soup = bs4.BeautifulSoup(html.content, 'html.parser')\n",
    "\n",
    "# create player soup\n",
    "player_reg = str(player)+'</span>\\n</th>\\n.{1,200}\\n.{1,200}\\n.{1,200}\\n.{1,200}\\n.{1,200}\\n.{1,200}\\n.{1,200}\\n.{1,200}\\n.{1,200}\\n.{1,200}\\n.{1,200}\\n.{1,200}\\n.{1,200}\\n.{1,200}\\n.{1,200}\\n.{1,200}\\n.{1,200}\\n.{1,200}\\n.{1,200}\\n.{1,200}'\n",
    "player_soup =  re.findall(player_reg, str(soup))\n",
    "\n",
    "# AVG\n",
    "Overall_AVG = float(re.findall('\"AVG\">.\\d{1,3}<', str(player_soup))[0][6:-1])\n",
    "SEC_AVG = float(re.findall('\"AVG\">.\\d{1,3}<', str(player_soup))[1][6:-1])\n",
    "\n",
    "# OB%\n",
    "Overall_OBP = float(re.findall('\"OB%\">.\\d{1,3}<', str(player_soup))[0][6:-1])\n",
    "SEC_OBP = float(re.findall('\"OB%\">.\\d{1,3}<', str(player_soup))[1][6:-1])\n",
    "\n",
    "# BB\n",
    "Overall_BB = int(re.findall('\"BB\">\\d{1,3}<', str(player_soup))[0][5:-1])\n",
    "SEC_BB = int(re.findall('\"BB\">\\d{1,3}<', str(player_soup))[1][5:-1])\n",
    "\n",
    "# HBP\n",
    "Overall_HBP = int(re.findall('\"HBP\">\\d{1,3}<', str(player_soup))[0][6:-1])\n",
    "SEC_HBP = int(re.findall('\"HBP\">\\d{1,3}<', str(player_soup))[1][6:-1])\n",
    "\n",
    "# H\n",
    "Overall_H = int(re.findall('\"H\">\\d{1,3}<', str(player_soup))[0][4:-1])\n",
    "SEC_H = int(re.findall('\"H\">\\d{1,3}<', str(player_soup))[1][4:-1])\n",
    "\n",
    "# 2B\n",
    "Overall_2B = int(re.findall('\"2B\">\\d{1,3}<', str(player_soup))[0][5:-1])\n",
    "SEC_2B = int(re.findall('\"2B\">\\d{1,3}<', str(player_soup))[1][5:-1])\n",
    "\n",
    "# 3B\n",
    "Overall_3B = int(re.findall('\"3B\">\\d{1,3}<', str(player_soup))[0][5:-1])\n",
    "SEC_3B = int(re.findall('\"3B\">\\d{1,3}<', str(player_soup))[1][5:-1])\n",
    "\n",
    "# HR\n",
    "Overall_HR = int(re.findall('\"HR\">\\d{1,3}<', str(player_soup))[0][5:-1])\n",
    "SEC_HR = int(re.findall('\"HR\">\\d{1,3}<', str(player_soup))[1][5:-1])\n",
    "\n",
    "# 1B\n",
    "Overall_1B = Overall_H - Overall_2B - Overall_3B - Overall_HR\n",
    "SEC_1B = SEC_H - SEC_2B - SEC_3B - SEC_HR\n",
    "\n",
    "# AB\n",
    "Overall_AB = int(re.findall('\"AB\">\\d{1,3}<', str(player_soup))[0][5:-1])\n",
    "SEC_AB = int(re.findall('\"AB\">\\d{1,3}<', str(player_soup))[1][5:-1])\n",
    "\n",
    "# SF\n",
    "Overall_SF = int(re.findall('\"SF\">\\d{1,3}<', str(player_soup))[0][5:-1])\n",
    "SEC_SF = int(re.findall('\"SF\">\\d{1,3}<', str(player_soup))[1][5:-1])\n",
    "\n",
    "# NCAA wOBA\n",
    "NCAA_wOBA = 0.355\n",
    "NCAA_wOBA_Scale = 1.225\n",
    "\n",
    "# Calculte the wOBA\n",
    "Overall_wOBA = round((0.690*Overall_BB + 0.722*Overall_HBP + 0.888*Overall_1B + 1.271*Overall_2B + 1.616*Overall_3B + 2.101*Overall_HR) / (Overall_AB + Overall_BB + Overall_SF + Overall_HBP), 3)\n",
    "Overall_WRAA = round(((Overall_wOBA-NCAA_wOBA)/NCAA_wOBA_Scale)*Overall_AB,3)\n",
    "\n",
    "#### Check ####\n",
    "print('\\n=====')\n",
    "print('Avg : ' + str(Overall_AVG))\n",
    "print('OBP : ' + str(Overall_OBP))\n",
    "print('wOBA: ' + str(Overall_wOBA))\n",
    "print('wRAA: ' + str(Overall_WRAA))"
   ]
  },
  {
   "cell_type": "code",
   "execution_count": null,
   "metadata": {},
   "outputs": [],
   "source": []
  }
 ],
 "metadata": {
  "kernelspec": {
   "display_name": "Python 3",
   "language": "python",
   "name": "python3"
  },
  "language_info": {
   "codemirror_mode": {
    "name": "ipython",
    "version": 3
   },
   "file_extension": ".py",
   "mimetype": "text/x-python",
   "name": "python",
   "nbconvert_exporter": "python",
   "pygments_lexer": "ipython3",
   "version": "3.8.3"
  }
 },
 "nbformat": 4,
 "nbformat_minor": 4
}
